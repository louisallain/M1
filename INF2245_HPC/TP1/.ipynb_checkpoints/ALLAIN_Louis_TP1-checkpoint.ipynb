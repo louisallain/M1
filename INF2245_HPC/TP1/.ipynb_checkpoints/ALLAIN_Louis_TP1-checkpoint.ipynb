{
 "cells": [
  {
   "cell_type": "markdown",
   "metadata": {},
   "source": [
    "# TP1"
   ]
  },
  {
   "cell_type": "markdown",
   "metadata": {},
   "source": [
    "## Exercice 1"
   ]
  },
  {
   "cell_type": "code",
   "execution_count": 65,
   "metadata": {},
   "outputs": [],
   "source": [
    "import time\n",
    "import random \n",
    "\n",
    "# Initialisation\n",
    "tab_ordonne = []\n",
    "for i in range(0, 1000000):\n",
    "    tab_ordonne.append(i)\n",
    "\n",
    "# Recherche de manière séquentiel un élément dans un tableau\n",
    "# Donne l'indice de l'élément recherché ou False s'il n'existe pas\n",
    "def recherche_seq(tab, elemRech):\n",
    "    \n",
    "    i = 0\n",
    "    for elem in tab:\n",
    "        if(elem == elemRech):\n",
    "            return i\n",
    "        i = i + 1\n",
    "    return False\n",
    "\n",
    "# Recherche de manière dichotomique un élément dans un tableau trié\n",
    "# Donne l'indice de l'élément recherché ou False s'il n'existe pas\n",
    "def recherche_dich(tab, elemRech):\n",
    "    m = len(tab) // 2\n",
    "    if(elemRech != tab[m] and len(tab) == 1):\n",
    "        return False\n",
    "    if(elemRech == tab[m]): \n",
    "        return m\n",
    "    if(tab[m] > elemRech):\n",
    "        return recherche_dich(tab[0:m], elemRech)\n",
    "    else:\n",
    "        return recherche_dich(tab[m:len(tab)], elemRech)"
   ]
  },
  {
   "cell_type": "markdown",
   "metadata": {},
   "source": [
    "### Trouver un élément qui y figure"
   ]
  },
  {
   "cell_type": "markdown",
   "metadata": {},
   "source": [
    "#### Recherche séquentielle"
   ]
  },
  {
   "cell_type": "code",
   "execution_count": 66,
   "metadata": {},
   "outputs": [
    {
     "name": "stdout",
     "output_type": "stream",
     "text": [
      "Meilleur des cas | Temps : 7.970000001478184e-05\n"
     ]
    }
   ],
   "source": [
    "tmp_debut = time.perf_counter()\n",
    "recherche_seq(tab_ordonne, tab_ordonne[0])\n",
    "tmp_fin = time.perf_counter()\n",
    "print(f\"Meilleur des cas | Temps : {tmp_fin - tmp_debut}\")"
   ]
  },
  {
   "cell_type": "code",
   "execution_count": 67,
   "metadata": {},
   "outputs": [
    {
     "name": "stdout",
     "output_type": "stream",
     "text": [
      "Pire des cas | Temps : 0.09604119999994509\n"
     ]
    }
   ],
   "source": [
    "tmp_debut = time.perf_counter()\n",
    "recherche_seq(tab_ordonne, tab_ordonne[-1])\n",
    "tmp_fin = time.perf_counter()\n",
    "print(f\"Pire des cas | Temps : {tmp_fin - tmp_debut}\")"
   ]
  },
  {
   "cell_type": "markdown",
   "metadata": {},
   "source": [
    "#### Recherche dichotomique"
   ]
  },
  {
   "cell_type": "code",
   "execution_count": 68,
   "metadata": {},
   "outputs": [
    {
     "name": "stdout",
     "output_type": "stream",
     "text": [
      "Meilleur des cas | Temps : 9.089999980460561e-05\n"
     ]
    }
   ],
   "source": [
    "tmp_debut = time.perf_counter()\n",
    "recherche_dich(tab_ordonne, tab_ordonne[(len(tab_ordonne)//2)])\n",
    "tmp_fin = time.perf_counter()\n",
    "print(f\"Meilleur des cas | Temps : {tmp_fin - tmp_debut}\")"
   ]
  },
  {
   "cell_type": "code",
   "execution_count": 69,
   "metadata": {},
   "outputs": [
    {
     "name": "stdout",
     "output_type": "stream",
     "text": [
      "Pire des cas | Temps : 0.015084999999999127\n"
     ]
    }
   ],
   "source": [
    "tmp_debut = time.perf_counter()\n",
    "recherche_dich(tab_ordonne, tab_ordonne[0])\n",
    "tmp_fin = time.perf_counter()\n",
    "print(f\"Pire des cas | Temps : {tmp_fin - tmp_debut}\")"
   ]
  },
  {
   "cell_type": "markdown",
   "metadata": {},
   "source": [
    "### Trouver un élément qui n'y figure pas"
   ]
  },
  {
   "cell_type": "markdown",
   "metadata": {},
   "source": [
    "#### Recherche séquentielle"
   ]
  },
  {
   "cell_type": "code",
   "execution_count": 70,
   "metadata": {},
   "outputs": [
    {
     "name": "stdout",
     "output_type": "stream",
     "text": [
      "Elem qui n'existe pas | Temps : 0.11078829999996742\n"
     ]
    }
   ],
   "source": [
    "tmp_debut = time.perf_counter()\n",
    "recherche_seq(tab_ordonne, -10)\n",
    "tmp_fin = time.perf_counter()\n",
    "print(f\"Elem qui n'existe pas | Temps : {tmp_fin - tmp_debut}\")"
   ]
  },
  {
   "cell_type": "markdown",
   "metadata": {},
   "source": [
    "#### Recherche dichotomique"
   ]
  },
  {
   "cell_type": "code",
   "execution_count": 71,
   "metadata": {},
   "outputs": [
    {
     "name": "stdout",
     "output_type": "stream",
     "text": [
      "Elem qui n'existe pas | Temps : 0.014996500000052038\n"
     ]
    }
   ],
   "source": [
    "tmp_debut = time.perf_counter()\n",
    "recherche_dich(tab_ordonne, -10)\n",
    "tmp_fin = time.perf_counter()\n",
    "print(f\"Elem qui n'existe pas | Temps : {tmp_fin - tmp_debut}\")"
   ]
  },
  {
   "cell_type": "markdown",
   "metadata": {},
   "source": [
    "## Exercice 2"
   ]
  },
  {
   "cell_type": "code",
   "execution_count": 72,
   "metadata": {},
   "outputs": [],
   "source": [
    "import time\n",
    "import numpy as np\n",
    "import random\n",
    "import sys\n",
    "\n",
    "# Donne la représentation en une dimension d'une matrrice.\n",
    "#. Il est aussi possible de la représenter par untableau à une dimension. \n",
    "# On ne s’intéresse alors qu’aux éléments de la matrice qui ne sont pasnuls. \n",
    "# Chaque case du tableau contient un tuple (i, j ,a) correspondant à l’indice de ligne, \n",
    "# l’indicede colonne, et la valeur d’un élément non nul.\n",
    "def donne_representation_tableau_1dim(M):\n",
    "    ret = []\n",
    "    for i in range(len(M)):\n",
    "        for j in range(len(M[i])):\n",
    "            if(M[i][j] != 0):\n",
    "                ret.append([i, j, M[i][j]])\n",
    "    return ret\n",
    "\n",
    "# Additionne les éléments d'une matrice qui est sous la représentation \"tableau à une dimension\"\n",
    "def somme_elements_matrice_1dim(M_1dim):\n",
    "    \n",
    "    acc = 0\n",
    "    for ligne in M_1dim:\n",
    "        acc = acc + ligne[2]\n",
    "    return acc\n",
    "\n",
    "# Additinne les élements d'une matrice\n",
    "def somme_elements_matrice(M):\n",
    "    \n",
    "    acc = 0\n",
    "    for i in range(len(M)):\n",
    "        for j in range(len(M[i])):\n",
    "            acc = acc + M[i][j]\n",
    "    return acc\n",
    "\n",
    "# Algorithme qui prend en argument deux matrices et retourne la matrice\n",
    "# produit.\n",
    "\n",
    "def m_mul_matrix(Ma, Mb):\n",
    "    \n",
    "    if(np.size(Ma, 1) != np.size(Mb, 0)):\n",
    "        print(\"Les matrices ne sont pas compatibles pour le produit.\")\n",
    "        return []\n",
    "    \n",
    "    result = np.zeros(shape=(len(Ma), len(Mb[0])))\n",
    "    \n",
    "    for i in range(len(Ma)): # nombre de ligne de A\n",
    "        for j in range(len(Mb[0])): # nombre de colonne de B\n",
    "            for k in range (len(Ma[0])): # nombre de colonne de A\n",
    "                result[i][j] += Ma[i][k]*Mb[k][j]\n",
    "               \n",
    "    return result  "
   ]
  },
  {
   "cell_type": "markdown",
   "metadata": {},
   "source": [
    "### Addition des éléments d'une matrice"
   ]
  },
  {
   "cell_type": "code",
   "execution_count": 79,
   "metadata": {},
   "outputs": [
    {
     "name": "stdout",
     "output_type": "stream",
     "text": [
      "Taille matrice : 10 * 10\n",
      "Pourcentage de 0 : 9.999999999999998%\n",
      "Taille mémoire matrice sous forme 2D : 912 octets\n",
      "Taille mémoire matrice sous forme 1D : 912 octets\n",
      "Somme des éléments d'une matrice 2D | Temps : 0.0001708999998299987\n",
      "Somme des éléments d'une matrice 2D | Temps : 9.130000012191886e-05\n"
     ]
    }
   ],
   "source": [
    "A = np.empty((10, 10))\n",
    "for i in range(len(A)):\n",
    "    for j in range(len(A[i])):\n",
    "        A[i][j] = random.randint(0, 8)\n",
    "\n",
    "A_1dim = donne_representation_tableau_1dim(A)\n",
    "\n",
    "print(f\"Taille matrice : {len(A)} * {len(A)}\")\n",
    "print(f\"Pourcentage de 0 : {(1 - len(A_1dim) / (len(A)*len(A))) * 100}%\")\n",
    "print(f\"Taille mémoire matrice sous forme 2D : {sys.getsizeof(A)} octets\")\n",
    "print(f\"Taille mémoire matrice sous forme 1D : {sys.getsizeof(A_1dim)} octets\")\n",
    "\n",
    "tmp_debut = time.perf_counter()\n",
    "somme_elements_matrice(A)\n",
    "tmp_fin = time.perf_counter()\n",
    "print(f\"Somme des éléments d'une matrice 2D | Temps : {tmp_fin - tmp_debut}\")\n",
    "\n",
    "tmp_debut = time.perf_counter()\n",
    "somme_elements_matrice_1dim(A_1dim)\n",
    "tmp_fin = time.perf_counter()\n",
    "print(f\"Somme des éléments d'une matrice 1D | Temps : {tmp_fin - tmp_debut}\")"
   ]
  },
  {
   "cell_type": "code",
   "execution_count": 84,
   "metadata": {},
   "outputs": [
    {
     "name": "stdout",
     "output_type": "stream",
     "text": [
      "Taille matrice : 10 * 10\n",
      "Pourcentage de 0 : 20.999999999999996%\n",
      "Taille mémoire matrice sous forme 2D : 912 octets\n",
      "Taille mémoire matrice sous forme 1D : 768 octets\n",
      "Somme des éléments d'une matrice 2D | Temps : 0.00022249999983614543\n",
      "Somme des éléments d'une matrice 1D | Temps : 0.00017230000003110035\n"
     ]
    }
   ],
   "source": [
    "A = np.empty((10, 10))\n",
    "for i in range(len(A)):\n",
    "    for j in range(len(A[i])):\n",
    "        A[i][j] = random.randint(0, 3)\n",
    "\n",
    "A_1dim = donne_representation_tableau_1dim(A)\n",
    "\n",
    "print(f\"Taille matrice : {len(A)} * {len(A)}\")\n",
    "print(f\"Pourcentage de 0 : {(1 - len(A_1dim) / (len(A)*len(A))) * 100}%\")\n",
    "print(f\"Taille mémoire matrice sous forme 2D : {sys.getsizeof(A)} octets\")\n",
    "print(f\"Taille mémoire matrice sous forme 1D : {sys.getsizeof(A_1dim)} octets\")\n",
    "\n",
    "tmp_debut = time.perf_counter()\n",
    "somme_elements_matrice(A)\n",
    "tmp_fin = time.perf_counter()\n",
    "print(f\"Somme des éléments d'une matrice 2D | Temps : {tmp_fin - tmp_debut}\")\n",
    "\n",
    "tmp_debut = time.perf_counter()\n",
    "somme_elements_matrice_1dim(A_1dim)\n",
    "tmp_fin = time.perf_counter()\n",
    "print(f\"Somme des éléments d'une matrice 1D | Temps : {tmp_fin - tmp_debut}\")"
   ]
  },
  {
   "cell_type": "code",
   "execution_count": 88,
   "metadata": {},
   "outputs": [
    {
     "name": "stdout",
     "output_type": "stream",
     "text": [
      "Taille matrice : 10 * 10\n",
      "Pourcentage de 0 : 48.0%\n",
      "Taille mémoire matrice sous forme 2D : 912 octets\n",
      "Taille mémoire matrice sous forme 1D : 528 octets\n",
      "Somme des éléments d'une matrice 2D | Temps : 0.00013339999986783369\n",
      "Somme des éléments d'une matrice 1D | Temps : 8.210000009967189e-05\n"
     ]
    }
   ],
   "source": [
    "A = np.empty((10, 10))\n",
    "for i in range(len(A)):\n",
    "    for j in range(len(A[i])):\n",
    "        A[i][j] = random.randint(0, 1)\n",
    "\n",
    "A_1dim = donne_representation_tableau_1dim(A)\n",
    "\n",
    "print(f\"Taille matrice : {len(A)} * {len(A)}\")\n",
    "print(f\"Pourcentage de 0 : {(1 - len(A_1dim) / (len(A)*len(A))) * 100}%\")\n",
    "print(f\"Taille mémoire matrice sous forme 2D : {sys.getsizeof(A)} octets\")\n",
    "print(f\"Taille mémoire matrice sous forme 1D : {sys.getsizeof(A_1dim)} octets\")\n",
    "\n",
    "tmp_debut = time.perf_counter()\n",
    "somme_elements_matrice(A)\n",
    "tmp_fin = time.perf_counter()\n",
    "print(f\"Somme des éléments d'une matrice 2D | Temps : {tmp_fin - tmp_debut}\")\n",
    "\n",
    "tmp_debut = time.perf_counter()\n",
    "somme_elements_matrice_1dim(A_1dim)\n",
    "tmp_fin = time.perf_counter()\n",
    "print(f\"Somme des éléments d'une matrice 1D | Temps : {tmp_fin - tmp_debut}\")"
   ]
  },
  {
   "cell_type": "markdown",
   "metadata": {},
   "source": [
    "## Exercice 4"
   ]
  },
  {
   "cell_type": "code",
   "execution_count": 92,
   "metadata": {},
   "outputs": [
    {
     "data": {
      "image/png": "[encoded data removed]",
      "text/plain": [
       "<Figure size 432x288 with 1 Axes>"
      ]
     },
     "metadata": {
      "needs_background": "light"
     },
     "output_type": "display_data"
    }
   ],
   "source": [
    "import matplotlib.pyplot as plt\n",
    "\n",
    "def f1(n):\n",
    "    ret = 0\n",
    "    for i in range(1, n-1):\n",
    "        for j in range(i+1,n):\n",
    "            for k in range(1,j):\n",
    "                ret = ret + 1\n",
    "    return ret\n",
    "\n",
    "def f2(n):\n",
    "    ret = 0\n",
    "    for i in range(1,n):\n",
    "        for j in range(1,i):\n",
    "            for k in range(j,i):\n",
    "                ret = ret + 1\n",
    "    return ret\n",
    "\n",
    "\n",
    "x1 = [0,10,20,30,40,50, 75, 100, 125, 150, 200, 250, 300, 350, 400, 450, 500]\n",
    "x2 = [0,10,20,30,40,50, 75, 100, 125, 150, 200, 250, 300, 350, 400, 450, 500]\n",
    "\n",
    "y1 = []\n",
    "y2 = []\n",
    "\n",
    "for i in range(len(x2)):\n",
    "    y1.append(f1(x1[i]))\n",
    "    y2.append(f2(x2[i]))\n",
    "    \n",
    "plt.plot(x1, y1, label = \"f1\")\n",
    "plt.plot(x2, y2, label = \"f2\")\n",
    "plt.xlabel(\"Valeurs d'entrées\")\n",
    "plt.legend() \n",
    "plt.show()"
   ]
  }
 ],
 "metadata": {
  "kernelspec": {
   "display_name": "Python 3",
   "language": "python",
   "name": "python3"
  },
  "language_info": {
   "codemirror_mode": {
    "name": "ipython",
    "version": 3
   },
   "file_extension": ".py",
   "mimetype": "text/x-python",
   "name": "python",
   "nbconvert_exporter": "python",
   "pygments_lexer": "ipython3",
   "version": "3.7.3"
  }
 },
 "nbformat": 4,
 "nbformat_minor": 2
}
