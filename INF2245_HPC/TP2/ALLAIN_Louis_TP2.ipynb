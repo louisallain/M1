{
  "nbformat": 4,
  "nbformat_minor": 0,
  "metadata": {
    "kernelspec": {
      "display_name": "Python 3",
      "language": "python",
      "name": "python3"
    },
    "language_info": {
      "codemirror_mode": {
        "name": "ipython",
        "version": 3
      },
      "file_extension": ".py",
      "mimetype": "text/x-python",
      "name": "python",
      "nbconvert_exporter": "python",
      "pygments_lexer": "ipython3",
      "version": "3.7.3"
    },
    "colab": {
      "name": "TP2.ipynb",
      "provenance": [],
      "collapsed_sections": []
    }
  },
  "cells": [
    {
      "cell_type": "markdown",
      "metadata": {
        "id": "eCa3_8A5m4ef",
        "colab_type": "text"
      },
      "source": [
        "## ALLAIN Louis - TP2 - Le problème du sac"
      ]
    },
    {
      "cell_type": "markdown",
      "metadata": {
        "id": "q4gHJavCm4eh",
        "colab_type": "text"
      },
      "source": [
        "## 1. Approche force brute"
      ]
    },
    {
      "cell_type": "markdown",
      "metadata": {
        "id": "OC7v6uv3m4ej",
        "colab_type": "text"
      },
      "source": [
        "### Initialisation"
      ]
    },
    {
      "cell_type": "code",
      "metadata": {
        "id": "LMZJBUjSm4el",
        "colab_type": "code",
        "colab": {},
        "outputId": "9d40111d-42e6-42f4-b83a-69d7fa58d9ba"
      },
      "source": [
        "import random \n",
        "import itertools\n",
        "import time\n",
        "\n",
        "# renvoi un ensemble d'items sous la forme [ [1, 2], [4, 2] ] #gain, poids\n",
        "# n : nombre d'items\n",
        "def genere_items(n):\n",
        "    items = []\n",
        "    for i in range(0, n):\n",
        "        items.append([random.randint(1, 10), random.randint(1, 10)])\n",
        "    \n",
        "    return items\n",
        "\n",
        "n = 5\n",
        "M = 5*n\n",
        "items = genere_items(n)\n",
        "print(f\"Capacite : {M}\")\n",
        "print(f\"Nb items : {n}\")\n",
        "print(f\"Items : {items}\")"
      ],
      "execution_count": 0,
      "outputs": [
        {
          "output_type": "stream",
          "text": [
            "Capacite : 25\n",
            "Nb items : 5\n",
            "Items : [[5, 3], [5, 9], [6, 1], [10, 4], [9, 3]]\n"
          ],
          "name": "stdout"
        }
      ]
    },
    {
      "cell_type": "markdown",
      "metadata": {
        "id": "LMnsAi5Jm4ev",
        "colab_type": "text"
      },
      "source": [
        "### 1.1. Sans répétition"
      ]
    },
    {
      "cell_type": "code",
      "metadata": {
        "scrolled": true,
        "id": "tn3UVQaZm4ex",
        "colab_type": "code",
        "colab": {},
        "outputId": "e9e06105-a57c-44af-8d0f-59e784469768"
      },
      "source": [
        "# calcul toutes les combinaisons possibles (sans répétition), les évalue\n",
        "# et renvoie le gain optimal\n",
        "def SOLVE_BAG_BRUTE_FORCE(items, M, n):\n",
        "    possible_combinations = []\n",
        "    for i in range(1, n+1):\n",
        "        possible_combinations.append(list(itertools.combinations(items, i)))\n",
        "    \n",
        "    weight_saved = 0\n",
        "    weight_current = 0\n",
        "    for comb_list_by_size in possible_combinations:\n",
        "        for comb in comb_list_by_size:\n",
        "            for elem in comb:\n",
        "                weight_current = weight_current + elem[1]\n",
        "            \n",
        "            if(weight_current > weight_saved and weight_current <= M):\n",
        "                weight_saved = weight_current\n",
        "                \n",
        "    return weight_saved\n",
        "\n",
        "tmp_debut = time.perf_counter()\n",
        "best_w = SOLVE_BAG_BRUTE_FORCE(items, M, n)\n",
        "tmp_fin = time.perf_counter()\n",
        "print(f\"Meilleur poids : {best_w}\")\n",
        "print(f\"Temps d'exécution : {tmp_fin-tmp_debut}\")"
      ],
      "execution_count": 0,
      "outputs": [
        {
          "output_type": "stream",
          "text": [
            "Meilleur poids : 20\n",
            "Temps d'exécution : 0.00021639999999933934\n"
          ],
          "name": "stdout"
        }
      ]
    },
    {
      "cell_type": "markdown",
      "metadata": {
        "id": "p1Dpyb33m4e1",
        "colab_type": "text"
      },
      "source": [
        "### 1.2. Avec répétitions"
      ]
    },
    {
      "cell_type": "code",
      "metadata": {
        "id": "YMpoGGXxm4e3",
        "colab_type": "code",
        "colab": {},
        "outputId": "ff7403e7-b8fa-43b4-848a-21c576eb35c5"
      },
      "source": [
        "# détermine le nombre de fois max d'utilisation par item\n",
        "items_rep = []\n",
        "for elem in items:\n",
        "    f = M//elem[1]\n",
        "    for i in range(f): \n",
        "        items_rep.append(elem)\n",
        "\n",
        "tmp_debut = time.perf_counter()\n",
        "best_w = SOLVE_BAG_BRUTE_FORCE(items_rep, M, n)\n",
        "tmp_fin = time.perf_counter()\n",
        "print(f\"Meilleur poids : {best_w}\")\n",
        "print(f\"Temps d'exécution : {tmp_fin-tmp_debut}\")"
      ],
      "execution_count": 0,
      "outputs": [
        {
          "output_type": "stream",
          "text": [
            "Meilleur poids : 24\n",
            "Temps d'exécution : 2.5278971000000183\n"
          ],
          "name": "stdout"
        }
      ]
    },
    {
      "cell_type": "markdown",
      "metadata": {
        "id": "LaoDuYL0m4e7",
        "colab_type": "text"
      },
      "source": [
        "## 2. Approche gloutonne"
      ]
    },
    {
      "cell_type": "markdown",
      "metadata": {
        "id": "nZnu8hIOm4e-",
        "colab_type": "text"
      },
      "source": [
        "### Initialisation"
      ]
    },
    {
      "cell_type": "code",
      "metadata": {
        "id": "IixqPK9Cm4fA",
        "colab_type": "code",
        "colab": {}
      },
      "source": [
        "# Trie un tableau d'items dans l'ordre décroissant selon leur ration gain/masse\n",
        "# Renvoie un nouveau tableau où on a ajouté à chaque élément son ration correspondant\n",
        "# Le retour est de la forme [ [1, 2, 0,5], [4, 2, 2]  ] #gain, poids, ratio\n",
        "def trieItemsParRatio(items):\n",
        "    \n",
        "    ret = items.copy()\n",
        "    \n",
        "    # Utilisé pour comparer selon le ratio\n",
        "    def takeThird(elem):\n",
        "        return elem[2]\n",
        "    \n",
        "    for elem in ret:\n",
        "        elem.append(elem[0]/elem[1])\n",
        "        \n",
        "    ret.sort(key=takeThird, reverse=True)\n",
        "    return ret"
      ],
      "execution_count": 0,
      "outputs": []
    },
    {
      "cell_type": "markdown",
      "metadata": {
        "id": "_C-QSr5Mm4fr",
        "colab_type": "text"
      },
      "source": [
        "### 2.1. Sans répétition"
      ]
    },
    {
      "cell_type": "code",
      "metadata": {
        "id": "P6s3UiQlm4fu",
        "colab_type": "code",
        "colab": {},
        "outputId": "63acd8fb-60ec-4cef-8470-f3498c146526"
      },
      "source": [
        "def SOLVE_BAG_GLOUTON(items, M, n):\n",
        "    \n",
        "    items_trie = trieItemsParRatio(items)\n",
        "\n",
        "    current_weight = 0\n",
        "    best_weight = 0\n",
        "\n",
        "    for elem in items_trie:\n",
        "        current_weight = current_weight + elem[1]\n",
        "        if(current_weight > M):\n",
        "            break\n",
        "        best_weight = best_weight + elem[1]\n",
        "    return best_weight\n",
        "\n",
        "tmp_debut = time.perf_counter()\n",
        "best_w = SOLVE_BAG_GLOUTON(items, M, n)\n",
        "tmp_fin = time.perf_counter()\n",
        "print(f\"Meilleur poids : {best_w}\")\n",
        "print(f\"Temps d'exécution : {tmp_fin-tmp_debut}\")"
      ],
      "execution_count": 0,
      "outputs": [
        {
          "output_type": "stream",
          "text": [
            "Meilleur poids : 20\n",
            "Temps d'exécution : 9.499999998752173e-05\n"
          ],
          "name": "stdout"
        }
      ]
    },
    {
      "cell_type": "markdown",
      "metadata": {
        "id": "uWawAggym4f5",
        "colab_type": "text"
      },
      "source": [
        "### 2.2. Avec répétition"
      ]
    },
    {
      "cell_type": "code",
      "metadata": {
        "id": "mvJwleIBm4f9",
        "colab_type": "code",
        "colab": {},
        "outputId": "377bfa7e-627b-45f8-a829-6ea41d8eeb8d"
      },
      "source": [
        "tmp_debut = time.perf_counter()\n",
        "best_w = SOLVE_BAG_GLOUTON(items_rep, M, n)\n",
        "tmp_fin = time.perf_counter()\n",
        "print(f\"Meilleur poids : {best_w}\")\n",
        "print(f\"Temps d'exécution : {tmp_fin-tmp_debut}\")"
      ],
      "execution_count": 0,
      "outputs": [
        {
          "output_type": "stream",
          "text": [
            "Meilleur poids : 25\n",
            "Temps d'exécution : 0.00026410000003807\n"
          ],
          "name": "stdout"
        }
      ]
    },
    {
      "cell_type": "markdown",
      "metadata": {
        "id": "75IZxbqum4gI",
        "colab_type": "text"
      },
      "source": [
        "## 3. Programmation dynamique"
      ]
    },
    {
      "cell_type": "code",
      "metadata": {
        "id": "4kMvDW3um4gT",
        "colab_type": "code",
        "colab": {}
      },
      "source": [
        "def SOLVE_BAG_DYNAMIQUE(W, wt, val, n): \n",
        "    K = [[0 for x in range(W+1)] for x in range(n+1)] \n",
        "    for i in range(n+1): \n",
        "        for w in range(W+1): \n",
        "            if i==0 or w==0: \n",
        "                K[i][w] = 0\n",
        "            elif wt[i-1] <= w: \n",
        "                K[i][w] = max(val[i-1] + K[i-1][w-wt[i-1]],  K[i-1][w]) \n",
        "            else: \n",
        "                K[i][w] = K[i-1][w] \n",
        "    return K[n][W]"
      ],
      "execution_count": 0,
      "outputs": []
    }
  ]
}