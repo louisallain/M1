{
 "cells": [
  {
   "cell_type": "markdown",
   "metadata": {},
   "source": [
    "# TP2 - Le problème du sac (je parle pas de toi)"
   ]
  },
  {
   "cell_type": "markdown",
   "metadata": {},
   "source": [
    "## 1. Approche force brute"
   ]
  },
  {
   "cell_type": "markdown",
   "metadata": {},
   "source": [
    "### 1.1. Sans répétition"
   ]
  },
  {
   "cell_type": "code",
   "execution_count": 3,
   "metadata": {
    "scrolled": true
   },
   "outputs": [
    {
     "name": "stdout",
     "output_type": "stream",
     "text": [
      "Capacite : 50\n",
      "Nb items : 10\n",
      "Items : [[5, 2], [6, 10], [5, 3], [2, 1], [7, 9], [5, 3], [10, 2], [8, 10], [4, 5], [1, 10]]\n",
      "Meilleur poids : 45\n",
      "Temps d'exécution : 0.0013353\n"
     ]
    }
   ],
   "source": [
    "import random \n",
    "import itertools\n",
    "import time\n",
    "\n",
    "# renvoi un ensemble d'items sous la forme [ [1, 2], [4, 2] #gain, poids ]\n",
    "# n : nombre d'items\n",
    "def genere_items(n):\n",
    "    items = []\n",
    "    for i in range(0, n):\n",
    "        items.append([random.randint(1, 10), random.randint(1, 10)])\n",
    "    \n",
    "    return items\n",
    "n = 10\n",
    "M = 5*n\n",
    "items = genere_items(n)\n",
    "print(f\"Capacite : {M}\")\n",
    "print(f\"Nb items : {n}\")\n",
    "print(f\"Items : {items}\")\n",
    "\n",
    "# calcul toutes les combinaisons possibles (sans répétition), les évalue\n",
    "# et renvoie le gain optimal\n",
    "def SOLVE_BAG_BRUTE_FORCE_V1(items, M, n):\n",
    "    possible_combinations = []\n",
    "    for i in range(1, n+1):\n",
    "        possible_combinations.append(list(itertools.combinations(items, i)))\n",
    "    \n",
    "    weight_saved = 0\n",
    "    weight_current = 0\n",
    "    comb_saved = []\n",
    "    for comb_list_by_size in possible_combinations:\n",
    "        for comb in comb_list_by_size:\n",
    "            for elem in comb:\n",
    "                weight_current = weight_current + elem[1]\n",
    "            \n",
    "            if(weight_current > weight_saved and weight_current <= M):\n",
    "                weight_saved = weight_current\n",
    "                comb_saved = comb\n",
    "                print(comb_saved)\n",
    "                \n",
    "    return weight_saved\n",
    "\n",
    "tmp_debut = time.clock()\n",
    "best_w = SOLVE_BAG_BRUTE_FORCE_V1(items, M, n)\n",
    "tmp_fin = time.clock()\n",
    "print(f\"Meilleur poids : {best_w}\")\n",
    "print(f\"Temps d'exécution : {tmp_fin-tmp_debut}\")"
   ]
  },
  {
   "cell_type": "code",
   "execution_count": null,
   "metadata": {},
   "outputs": [],
   "source": []
  },
  {
   "cell_type": "markdown",
   "metadata": {},
   "source": [
    "### 1.2. Avec répétitions"
   ]
  },
  {
   "cell_type": "code",
   "execution_count": 4,
   "metadata": {},
   "outputs": [
    {
     "name": "stdout",
     "output_type": "stream",
     "text": [
      "[('a', 'a', 'a'), ('a', 'a', 'b'), ('a', 'a', 'c'), ('a', 'b', 'b'), ('a', 'b', 'c'), ('a', 'c', 'c'), ('b', 'b', 'b'), ('b', 'b', 'c'), ('b', 'c', 'c'), ('c', 'c', 'c')]\n"
     ]
    }
   ],
   "source": [
    "# calcul toutes les combinaisons possibles (avec répétition), les évalue\n",
    "# et renvoie le gain optimal\n",
    "def SOLVE_BAG_BRUTE_FORCE_V2(items, M, n):\n",
    "    possible_combinations = []\n",
    "    for i in range(1, n+1):\n",
    "        possible_combinations.append(list(itertools.combinations_with_replacement(items, i)))\n",
    "    \n",
    "    print(possible_combinations)\n",
    "    \"\"\"\n",
    "    weight_saved = 0\n",
    "    weight_current = 0\n",
    "    comb_saved = []\n",
    "    for comb_list_by_size in possible_combinations:\n",
    "        for comb in comb_list_by_size:\n",
    "            for elem in comb:\n",
    "                weight_current = weight_current + elem[1]\n",
    "            \n",
    "            if(weight_current > weight_saved and weight_current <= M):\n",
    "                weight_saved = weight_current\n",
    "                comb_saved = comb\n",
    "                \n",
    "    return weight_saved\n",
    "    \"\"\"\n",
    "arr = [\"a\", \"b\", \"c\"]\n",
    "print(list(itertools.combinations_with_replacement(arr, 3)))\n",
    "#SOLVE_BAG_BRUTE_FORCE_V2(items, M, n)"
   ]
  },
  {
   "cell_type": "code",
   "execution_count": null,
   "metadata": {},
   "outputs": [],
   "source": []
  }
 ],
 "metadata": {
  "kernelspec": {
   "display_name": "Python 3",
   "language": "python",
   "name": "python3"
  }
 },
 "nbformat": 4,
 "nbformat_minor": 2
}
